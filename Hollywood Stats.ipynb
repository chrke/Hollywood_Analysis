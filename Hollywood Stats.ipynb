{
 "cells": [
  {
   "cell_type": "code",
   "execution_count": 1,
   "metadata": {
    "collapsed": false
   },
   "outputs": [
    {
     "name": "stderr",
     "output_type": "stream",
     "text": [
      "C:\\Users\\Keerthana\\Anaconda2\\lib\\site-packages\\matplotlib\\__init__.py:872: UserWarning: axes.color_cycle is deprecated and replaced with axes.prop_cycle; please use the latter.\n",
      "  warnings.warn(self.msg_depr % (key, alt_key))\n"
     ]
    }
   ],
   "source": [
    "import numpy as np\n",
    "import pandas as pd\n",
    "from pandas import Series, DataFrame\n",
    "import seaborn as sns\n",
    "import matplotlib.pyplot as plt\n",
    "%matplotlib inline"
   ]
  },
  {
   "cell_type": "code",
   "execution_count": 31,
   "metadata": {
    "collapsed": true
   },
   "outputs": [],
   "source": [
    "hollywood_movies = pd.read_csv(\"moviedata.csv\")"
   ]
  },
  {
   "cell_type": "code",
   "execution_count": 32,
   "metadata": {
    "collapsed": false
   },
   "outputs": [
    {
     "data": {
      "text/html": [
       "<div>\n",
       "<table border=\"1\" class=\"dataframe\">\n",
       "  <thead>\n",
       "    <tr style=\"text-align: right;\">\n",
       "      <th></th>\n",
       "      <th>Year</th>\n",
       "      <th>exclude</th>\n",
       "      <th>Film</th>\n",
       "      <th>Lead Studio</th>\n",
       "      <th>Critic Rating</th>\n",
       "      <th>Audience Rating</th>\n",
       "      <th>Story</th>\n",
       "      <th>Genre</th>\n",
       "      <th>Opening Weekend Theaters</th>\n",
       "      <th>Opening Weekend per Cinema</th>\n",
       "      <th>Domestic Gross</th>\n",
       "      <th>Foreign Gross</th>\n",
       "      <th>Worldwide Gross</th>\n",
       "      <th>Budget</th>\n",
       "      <th>Profitability</th>\n",
       "      <th>Opening Weekend Revenue</th>\n",
       "      <th>Oscar</th>\n",
       "    </tr>\n",
       "  </thead>\n",
       "  <tbody>\n",
       "    <tr>\n",
       "      <th>0</th>\n",
       "      <td>2011</td>\n",
       "      <td>NaN</td>\n",
       "      <td>Average</td>\n",
       "      <td>NaN</td>\n",
       "      <td>52.84</td>\n",
       "      <td>61.42</td>\n",
       "      <td>NaN</td>\n",
       "      <td>NaN</td>\n",
       "      <td>2810.31</td>\n",
       "      <td>8764.92</td>\n",
       "      <td>61.33</td>\n",
       "      <td>93.53</td>\n",
       "      <td>144.86</td>\n",
       "      <td>52.25</td>\n",
       "      <td>3.4200</td>\n",
       "      <td>20.14</td>\n",
       "      <td>NaN</td>\n",
       "    </tr>\n",
       "    <tr>\n",
       "      <th>1</th>\n",
       "      <td>2011</td>\n",
       "      <td>NaN</td>\n",
       "      <td>The Tree Of Life</td>\n",
       "      <td>Independant</td>\n",
       "      <td>84.00</td>\n",
       "      <td>61.00</td>\n",
       "      <td>Discovery</td>\n",
       "      <td>Drama</td>\n",
       "      <td>4.00</td>\n",
       "      <td>93230.00</td>\n",
       "      <td>13.30</td>\n",
       "      <td>41.00</td>\n",
       "      <td>54.30</td>\n",
       "      <td>32.00</td>\n",
       "      <td>1.6970</td>\n",
       "      <td>0.37</td>\n",
       "      <td>NaN</td>\n",
       "    </tr>\n",
       "    <tr>\n",
       "      <th>2</th>\n",
       "      <td>2011</td>\n",
       "      <td>NaN</td>\n",
       "      <td>Midnight in Paris</td>\n",
       "      <td>Sony</td>\n",
       "      <td>93.00</td>\n",
       "      <td>84.00</td>\n",
       "      <td>Love</td>\n",
       "      <td>Romance</td>\n",
       "      <td>944.00</td>\n",
       "      <td>61777.00</td>\n",
       "      <td>56.18</td>\n",
       "      <td>83.00</td>\n",
       "      <td>139.18</td>\n",
       "      <td>17.00</td>\n",
       "      <td>8.1869</td>\n",
       "      <td>5.83</td>\n",
       "      <td>NaN</td>\n",
       "    </tr>\n",
       "    <tr>\n",
       "      <th>3</th>\n",
       "      <td>2011</td>\n",
       "      <td>NaN</td>\n",
       "      <td>Harry Potter and the Deathly Hallows Part 2</td>\n",
       "      <td>Warner Bros</td>\n",
       "      <td>96.00</td>\n",
       "      <td>92.00</td>\n",
       "      <td>Rivalry</td>\n",
       "      <td>Fantasy</td>\n",
       "      <td>4375.00</td>\n",
       "      <td>38672.00</td>\n",
       "      <td>381.01</td>\n",
       "      <td>947.10</td>\n",
       "      <td>1328.11</td>\n",
       "      <td>125.00</td>\n",
       "      <td>10.6249</td>\n",
       "      <td>169.19</td>\n",
       "      <td>NaN</td>\n",
       "    </tr>\n",
       "    <tr>\n",
       "      <th>4</th>\n",
       "      <td>2011</td>\n",
       "      <td>NaN</td>\n",
       "      <td>Twilight: Breaking Dawn</td>\n",
       "      <td>Independant</td>\n",
       "      <td>26.00</td>\n",
       "      <td>68.00</td>\n",
       "      <td>Love</td>\n",
       "      <td>Romance</td>\n",
       "      <td>4061.00</td>\n",
       "      <td>34012.00</td>\n",
       "      <td>260.80</td>\n",
       "      <td>374.00</td>\n",
       "      <td>634.80</td>\n",
       "      <td>110.00</td>\n",
       "      <td>5.7709</td>\n",
       "      <td>138.12</td>\n",
       "      <td>NaN</td>\n",
       "    </tr>\n",
       "  </tbody>\n",
       "</table>\n",
       "</div>"
      ],
      "text/plain": [
       "   Year  exclude                                         Film  Lead Studio  \\\n",
       "0  2011      NaN                                      Average          NaN   \n",
       "1  2011      NaN                             The Tree Of Life  Independant   \n",
       "2  2011      NaN                            Midnight in Paris         Sony   \n",
       "3  2011      NaN  Harry Potter and the Deathly Hallows Part 2  Warner Bros   \n",
       "4  2011      NaN                      Twilight: Breaking Dawn  Independant   \n",
       "\n",
       "   Critic Rating  Audience Rating      Story    Genre  \\\n",
       "0          52.84            61.42        NaN      NaN   \n",
       "1          84.00            61.00  Discovery    Drama   \n",
       "2          93.00            84.00       Love  Romance   \n",
       "3          96.00            92.00    Rivalry  Fantasy   \n",
       "4          26.00            68.00       Love  Romance   \n",
       "\n",
       "   Opening Weekend Theaters  Opening Weekend per Cinema  Domestic Gross  \\\n",
       "0                   2810.31                     8764.92           61.33   \n",
       "1                      4.00                    93230.00           13.30   \n",
       "2                    944.00                    61777.00           56.18   \n",
       "3                   4375.00                    38672.00          381.01   \n",
       "4                   4061.00                    34012.00          260.80   \n",
       "\n",
       "   Foreign Gross  Worldwide Gross  Budget  Profitability  \\\n",
       "0          93.53           144.86   52.25         3.4200   \n",
       "1          41.00            54.30   32.00         1.6970   \n",
       "2          83.00           139.18   17.00         8.1869   \n",
       "3         947.10          1328.11  125.00        10.6249   \n",
       "4         374.00           634.80  110.00         5.7709   \n",
       "\n",
       "   Opening Weekend Revenue Oscar  \n",
       "0                    20.14   NaN  \n",
       "1                     0.37   NaN  \n",
       "2                     5.83   NaN  \n",
       "3                   169.19   NaN  \n",
       "4                   138.12   NaN  "
      ]
     },
     "execution_count": 32,
     "metadata": {},
     "output_type": "execute_result"
    }
   ],
   "source": [
    "hollywood_movies.head()"
   ]
  },
  {
   "cell_type": "code",
   "execution_count": 33,
   "metadata": {
    "collapsed": false
   },
   "outputs": [
    {
     "data": {
      "text/plain": [
       "Series([], Name: exclude, dtype: int64)"
      ]
     },
     "execution_count": 33,
     "metadata": {},
     "output_type": "execute_result"
    }
   ],
   "source": [
    "# the exclude column seems to have a lot of null values, checking the distribution\n",
    "\n",
    "hollywood_movies[\"exclude\"].value_counts()"
   ]
  },
  {
   "cell_type": "code",
   "execution_count": 34,
   "metadata": {
    "collapsed": false
   },
   "outputs": [],
   "source": [
    "# since it has all null values, removing this column from the dataframe\\\n",
    "\n",
    "hollywood_movies.drop(\"exclude\",axis=1,inplace=True)"
   ]
  },
  {
   "cell_type": "code",
   "execution_count": 35,
   "metadata": {
    "collapsed": false
   },
   "outputs": [
    {
     "data": {
      "text/html": [
       "<div>\n",
       "<table border=\"1\" class=\"dataframe\">\n",
       "  <thead>\n",
       "    <tr style=\"text-align: right;\">\n",
       "      <th></th>\n",
       "      <th>Year</th>\n",
       "      <th>Film</th>\n",
       "      <th>Lead Studio</th>\n",
       "      <th>Critic Rating</th>\n",
       "      <th>Audience Rating</th>\n",
       "      <th>Story</th>\n",
       "      <th>Genre</th>\n",
       "      <th>Opening Weekend Theaters</th>\n",
       "      <th>Opening Weekend per Cinema</th>\n",
       "      <th>Domestic Gross</th>\n",
       "      <th>Foreign Gross</th>\n",
       "      <th>Worldwide Gross</th>\n",
       "      <th>Budget</th>\n",
       "      <th>Profitability</th>\n",
       "      <th>Opening Weekend Revenue</th>\n",
       "      <th>Oscar</th>\n",
       "    </tr>\n",
       "  </thead>\n",
       "  <tbody>\n",
       "    <tr>\n",
       "      <th>0</th>\n",
       "      <td>2011</td>\n",
       "      <td>Average</td>\n",
       "      <td>NaN</td>\n",
       "      <td>52.84</td>\n",
       "      <td>61.42</td>\n",
       "      <td>NaN</td>\n",
       "      <td>NaN</td>\n",
       "      <td>2810.31</td>\n",
       "      <td>8764.92</td>\n",
       "      <td>61.33</td>\n",
       "      <td>93.53</td>\n",
       "      <td>144.86</td>\n",
       "      <td>52.25</td>\n",
       "      <td>3.4200</td>\n",
       "      <td>20.14</td>\n",
       "      <td>NaN</td>\n",
       "    </tr>\n",
       "    <tr>\n",
       "      <th>1</th>\n",
       "      <td>2011</td>\n",
       "      <td>The Tree Of Life</td>\n",
       "      <td>Independant</td>\n",
       "      <td>84.00</td>\n",
       "      <td>61.00</td>\n",
       "      <td>Discovery</td>\n",
       "      <td>Drama</td>\n",
       "      <td>4.00</td>\n",
       "      <td>93230.00</td>\n",
       "      <td>13.30</td>\n",
       "      <td>41.00</td>\n",
       "      <td>54.30</td>\n",
       "      <td>32.00</td>\n",
       "      <td>1.6970</td>\n",
       "      <td>0.37</td>\n",
       "      <td>NaN</td>\n",
       "    </tr>\n",
       "    <tr>\n",
       "      <th>2</th>\n",
       "      <td>2011</td>\n",
       "      <td>Midnight in Paris</td>\n",
       "      <td>Sony</td>\n",
       "      <td>93.00</td>\n",
       "      <td>84.00</td>\n",
       "      <td>Love</td>\n",
       "      <td>Romance</td>\n",
       "      <td>944.00</td>\n",
       "      <td>61777.00</td>\n",
       "      <td>56.18</td>\n",
       "      <td>83.00</td>\n",
       "      <td>139.18</td>\n",
       "      <td>17.00</td>\n",
       "      <td>8.1869</td>\n",
       "      <td>5.83</td>\n",
       "      <td>NaN</td>\n",
       "    </tr>\n",
       "    <tr>\n",
       "      <th>3</th>\n",
       "      <td>2011</td>\n",
       "      <td>Harry Potter and the Deathly Hallows Part 2</td>\n",
       "      <td>Warner Bros</td>\n",
       "      <td>96.00</td>\n",
       "      <td>92.00</td>\n",
       "      <td>Rivalry</td>\n",
       "      <td>Fantasy</td>\n",
       "      <td>4375.00</td>\n",
       "      <td>38672.00</td>\n",
       "      <td>381.01</td>\n",
       "      <td>947.10</td>\n",
       "      <td>1328.11</td>\n",
       "      <td>125.00</td>\n",
       "      <td>10.6249</td>\n",
       "      <td>169.19</td>\n",
       "      <td>NaN</td>\n",
       "    </tr>\n",
       "    <tr>\n",
       "      <th>4</th>\n",
       "      <td>2011</td>\n",
       "      <td>Twilight: Breaking Dawn</td>\n",
       "      <td>Independant</td>\n",
       "      <td>26.00</td>\n",
       "      <td>68.00</td>\n",
       "      <td>Love</td>\n",
       "      <td>Romance</td>\n",
       "      <td>4061.00</td>\n",
       "      <td>34012.00</td>\n",
       "      <td>260.80</td>\n",
       "      <td>374.00</td>\n",
       "      <td>634.80</td>\n",
       "      <td>110.00</td>\n",
       "      <td>5.7709</td>\n",
       "      <td>138.12</td>\n",
       "      <td>NaN</td>\n",
       "    </tr>\n",
       "  </tbody>\n",
       "</table>\n",
       "</div>"
      ],
      "text/plain": [
       "   Year                                         Film  Lead Studio  \\\n",
       "0  2011                                      Average          NaN   \n",
       "1  2011                             The Tree Of Life  Independant   \n",
       "2  2011                            Midnight in Paris         Sony   \n",
       "3  2011  Harry Potter and the Deathly Hallows Part 2  Warner Bros   \n",
       "4  2011                      Twilight: Breaking Dawn  Independant   \n",
       "\n",
       "   Critic Rating  Audience Rating      Story    Genre  \\\n",
       "0          52.84            61.42        NaN      NaN   \n",
       "1          84.00            61.00  Discovery    Drama   \n",
       "2          93.00            84.00       Love  Romance   \n",
       "3          96.00            92.00    Rivalry  Fantasy   \n",
       "4          26.00            68.00       Love  Romance   \n",
       "\n",
       "   Opening Weekend Theaters  Opening Weekend per Cinema  Domestic Gross  \\\n",
       "0                   2810.31                     8764.92           61.33   \n",
       "1                      4.00                    93230.00           13.30   \n",
       "2                    944.00                    61777.00           56.18   \n",
       "3                   4375.00                    38672.00          381.01   \n",
       "4                   4061.00                    34012.00          260.80   \n",
       "\n",
       "   Foreign Gross  Worldwide Gross  Budget  Profitability  \\\n",
       "0          93.53           144.86   52.25         3.4200   \n",
       "1          41.00            54.30   32.00         1.6970   \n",
       "2          83.00           139.18   17.00         8.1869   \n",
       "3         947.10          1328.11  125.00        10.6249   \n",
       "4         374.00           634.80  110.00         5.7709   \n",
       "\n",
       "   Opening Weekend Revenue Oscar  \n",
       "0                    20.14   NaN  \n",
       "1                     0.37   NaN  \n",
       "2                     5.83   NaN  \n",
       "3                   169.19   NaN  \n",
       "4                   138.12   NaN  "
      ]
     },
     "execution_count": 35,
     "metadata": {},
     "output_type": "execute_result"
    }
   ],
   "source": [
    "hollywood_movies.head()"
   ]
  },
  {
   "cell_type": "markdown",
   "metadata": {},
   "source": [
    "### Is there a correlation between the audience rating and the profitability of the movie?\n"
   ]
  },
  {
   "cell_type": "code",
   "execution_count": 36,
   "metadata": {
    "collapsed": false
   },
   "outputs": [
    {
     "data": {
      "image/png": "[encoded data removed]",
      "text/plain": [
       "<matplotlib.figure.Figure at 0x224ee5c0>"
      ]
     },
     "metadata": {},
     "output_type": "display_data"
    }
   ],
   "source": [
    "fig = plt.figure(figsize = (6,10))\n",
    "ax1 = fig.add_subplot(2,1,1)\n",
    "ax2 = fig.add_subplot(2,1,2)\n",
    "ax1.scatter(hollywood_movies[\"Profitability\"],hollywood_movies[\"Audience Rating\"])\n",
    "ax1.set(xlabel=\"Profitability\",ylabel=\"Audience Rating\",title = \"Hollywood Movies,2007-2011\")\n",
    "ax2.scatter(hollywood_movies[\"Audience Rating\"],hollywood_movies[\"Profitability\"])\n",
    "ax2.set(xlabel=\"Audience Rating\",ylabel=\"Profitability\",title = \"Hollywood Movies,2007-2011\")\n",
    "plt.show()\n"
   ]
  },
  {
   "cell_type": "code",
   "execution_count": 37,
   "metadata": {
    "collapsed": false
   },
   "outputs": [
    {
     "data": {
      "text/html": [
       "<div>\n",
       "<table border=\"1\" class=\"dataframe\">\n",
       "  <thead>\n",
       "    <tr style=\"text-align: right;\">\n",
       "      <th></th>\n",
       "      <th>Year</th>\n",
       "      <th>Film</th>\n",
       "      <th>Lead Studio</th>\n",
       "      <th>Critic Rating</th>\n",
       "      <th>Audience Rating</th>\n",
       "      <th>Story</th>\n",
       "      <th>Genre</th>\n",
       "      <th>Opening Weekend Theaters</th>\n",
       "      <th>Opening Weekend per Cinema</th>\n",
       "      <th>Domestic Gross</th>\n",
       "      <th>Foreign Gross</th>\n",
       "      <th>Worldwide Gross</th>\n",
       "      <th>Budget</th>\n",
       "      <th>Profitability</th>\n",
       "      <th>Opening Weekend Revenue</th>\n",
       "      <th>Oscar</th>\n",
       "    </tr>\n",
       "  </thead>\n",
       "  <tbody>\n",
       "    <tr>\n",
       "      <th>282</th>\n",
       "      <td>2009</td>\n",
       "      <td>Paranormal Activity</td>\n",
       "      <td>Independent</td>\n",
       "      <td>82</td>\n",
       "      <td>56</td>\n",
       "      <td>Monster Force</td>\n",
       "      <td>Horror</td>\n",
       "      <td>760</td>\n",
       "      <td>25813</td>\n",
       "      <td>107.92</td>\n",
       "      <td>63.41</td>\n",
       "      <td>171.3</td>\n",
       "      <td>0.015</td>\n",
       "      <td>11420</td>\n",
       "      <td>19.6</td>\n",
       "      <td>NaN</td>\n",
       "    </tr>\n",
       "  </tbody>\n",
       "</table>\n",
       "</div>"
      ],
      "text/plain": [
       "     Year                 Film  Lead Studio  Critic Rating  Audience Rating  \\\n",
       "282  2009  Paranormal Activity  Independent             82               56   \n",
       "\n",
       "             Story   Genre  Opening Weekend Theaters  \\\n",
       "282  Monster Force  Horror                       760   \n",
       "\n",
       "     Opening Weekend per Cinema  Domestic Gross  Foreign Gross  \\\n",
       "282                       25813          107.92          63.41   \n",
       "\n",
       "     Worldwide Gross  Budget  Profitability  Opening Weekend Revenue Oscar  \n",
       "282            171.3   0.015          11420                     19.6   NaN  "
      ]
     },
     "execution_count": 37,
     "metadata": {},
     "output_type": "execute_result"
    }
   ],
   "source": [
    "# clearly there is one outlier in the data that is skewing the entire plot\n",
    "# trying to find it\n",
    "\n",
    "hollywood_movies[hollywood_movies[\"Profitability\"] == hollywood_movies[\"Profitability\"].max()]\n"
   ]
  },
  {
   "cell_type": "code",
   "execution_count": 38,
   "metadata": {
    "collapsed": true
   },
   "outputs": [],
   "source": [
    "# removing paranormal activity\n",
    "\n",
    "normal_movies = hollywood_movies[hollywood_movies[\"Profitability\"] < 10000]"
   ]
  },
  {
   "cell_type": "code",
   "execution_count": 39,
   "metadata": {
    "collapsed": false
   },
   "outputs": [
    {
     "data": {
      "text/plain": [
       "array([[<matplotlib.axes._subplots.AxesSubplot object at 0x0000000022631EB8>,\n",
       "        <matplotlib.axes._subplots.AxesSubplot object at 0x0000000022B0AE48>],\n",
       "       [<matplotlib.axes._subplots.AxesSubplot object at 0x0000000022BD1AC8>,\n",
       "        <matplotlib.axes._subplots.AxesSubplot object at 0x0000000021930358>]], dtype=object)"
      ]
     },
     "execution_count": 39,
     "metadata": {},
     "output_type": "execute_result"
    },
    {
     "data": {
      "image/png": "[encoded data removed]",
      "text/plain": [
       "<matplotlib.figure.Figure at 0x20f16278>"
      ]
     },
     "metadata": {},
     "output_type": "display_data"
    }
   ],
   "source": [
    "# Now we can generate a scatter matric between Audience Rating and Profitability\n",
    "\n",
    "from pandas.tools.plotting import scatter_matrix\n",
    "\n",
    "scatter_matrix(normal_movies[[\"Audience Rating\",\"Profitability\"]],figsize = (10,10))"
   ]
  },
  {
   "cell_type": "markdown",
   "metadata": {},
   "source": [
    "### How different are the Audience and Critic Ratings?"
   ]
  },
  {
   "cell_type": "code",
   "execution_count": 41,
   "metadata": {
    "collapsed": false
   },
   "outputs": [
    {
     "data": {
      "text/plain": [
       "<matplotlib.axes._subplots.AxesSubplot at 0x204f4320>"
      ]
     },
     "execution_count": 41,
     "metadata": {},
     "output_type": "execute_result"
    },
    {
     "data": {
      "image/png": "[encoded data removed]",
      "text/plain": [
       "<matplotlib.figure.Figure at 0x22c49ef0>"
      ]
     },
     "metadata": {},
     "output_type": "display_data"
    }
   ],
   "source": [
    "hollywood_movies[[\"Critic Rating\",\"Audience Rating\"]].plot(kind='box')"
   ]
  },
  {
   "cell_type": "markdown",
   "metadata": {},
   "source": [
    "Visualizing how this distribution changed year to year."
   ]
  },
  {
   "cell_type": "code",
   "execution_count": 45,
   "metadata": {
    "collapsed": false
   },
   "outputs": [
    {
     "name": "stderr",
     "output_type": "stream",
     "text": [
      "C:\\Users\\Keerthana\\Anaconda2\\lib\\site-packages\\ipykernel\\__main__.py:1: FutureWarning: sort(columns=....) is deprecated, use sort_values(by=.....)\n",
      "  if __name__ == '__main__':\n",
      "C:\\Users\\Keerthana\\Anaconda2\\lib\\site-packages\\pandas\\core\\frame.py:3167: SettingWithCopyWarning: \n",
      "A value is trying to be set on a copy of a slice from a DataFrame\n",
      "\n",
      "See the caveats in the documentation: http://pandas.pydata.org/pandas-docs/stable/indexing.html#indexing-view-versus-copy\n",
      "  inplace=inplace, kind=kind, na_position=na_position)\n"
     ]
    }
   ],
   "source": [
    "normal_movies.sort(\"Year\",inplace=True)"
   ]
  },
  {
   "cell_type": "code",
   "execution_count": 46,
   "metadata": {
    "collapsed": false
   },
   "outputs": [
    {
     "data": {
      "text/html": [
       "<div>\n",
       "<table border=\"1\" class=\"dataframe\">\n",
       "  <thead>\n",
       "    <tr style=\"text-align: right;\">\n",
       "      <th></th>\n",
       "      <th>Year</th>\n",
       "      <th>Film</th>\n",
       "      <th>Lead Studio</th>\n",
       "      <th>Critic Rating</th>\n",
       "      <th>Audience Rating</th>\n",
       "      <th>Story</th>\n",
       "      <th>Genre</th>\n",
       "      <th>Opening Weekend Theaters</th>\n",
       "      <th>Opening Weekend per Cinema</th>\n",
       "      <th>Domestic Gross</th>\n",
       "      <th>Foreign Gross</th>\n",
       "      <th>Worldwide Gross</th>\n",
       "      <th>Budget</th>\n",
       "      <th>Profitability</th>\n",
       "      <th>Opening Weekend Revenue</th>\n",
       "      <th>Oscar</th>\n",
       "    </tr>\n",
       "  </thead>\n",
       "  <tbody>\n",
       "    <tr>\n",
       "      <th>516</th>\n",
       "      <td>2007</td>\n",
       "      <td>Grindhouse</td>\n",
       "      <td>The Weinstein Company</td>\n",
       "      <td>82</td>\n",
       "      <td>86</td>\n",
       "      <td>pursuit</td>\n",
       "      <td>Action</td>\n",
       "      <td>2624</td>\n",
       "      <td>4419</td>\n",
       "      <td>25.04</td>\n",
       "      <td>0.38</td>\n",
       "      <td>25.42</td>\n",
       "      <td>53</td>\n",
       "      <td>0.4797</td>\n",
       "      <td>11.6</td>\n",
       "      <td>NaN</td>\n",
       "    </tr>\n",
       "    <tr>\n",
       "      <th>455</th>\n",
       "      <td>2007</td>\n",
       "      <td>Enchanted</td>\n",
       "      <td>Disney</td>\n",
       "      <td>93</td>\n",
       "      <td>80</td>\n",
       "      <td>Love</td>\n",
       "      <td>Comedy</td>\n",
       "      <td>3730</td>\n",
       "      <td>9233</td>\n",
       "      <td>127.81</td>\n",
       "      <td>212.68</td>\n",
       "      <td>340.49</td>\n",
       "      <td>85</td>\n",
       "      <td>4.0057</td>\n",
       "      <td>34.4</td>\n",
       "      <td>NaN</td>\n",
       "    </tr>\n",
       "    <tr>\n",
       "      <th>456</th>\n",
       "      <td>2007</td>\n",
       "      <td>Sicko</td>\n",
       "      <td>The Weinstein Company</td>\n",
       "      <td>93</td>\n",
       "      <td>87</td>\n",
       "      <td>quest</td>\n",
       "      <td>Documentary</td>\n",
       "      <td>702</td>\n",
       "      <td>5128</td>\n",
       "      <td>24.54</td>\n",
       "      <td>11.23</td>\n",
       "      <td>35.77</td>\n",
       "      <td>9</td>\n",
       "      <td>3.9742</td>\n",
       "      <td>3.6</td>\n",
       "      <td>NaN</td>\n",
       "    </tr>\n",
       "    <tr>\n",
       "      <th>457</th>\n",
       "      <td>2007</td>\n",
       "      <td>Halloween</td>\n",
       "      <td>The Weinstein Company</td>\n",
       "      <td>26</td>\n",
       "      <td>64</td>\n",
       "      <td>Pursuit</td>\n",
       "      <td>Horror</td>\n",
       "      <td>3472</td>\n",
       "      <td>7592</td>\n",
       "      <td>58.27</td>\n",
       "      <td>20.20</td>\n",
       "      <td>78.47</td>\n",
       "      <td>20</td>\n",
       "      <td>3.9235</td>\n",
       "      <td>26.4</td>\n",
       "      <td>NaN</td>\n",
       "    </tr>\n",
       "    <tr>\n",
       "      <th>458</th>\n",
       "      <td>2007</td>\n",
       "      <td>I Am Legend</td>\n",
       "      <td>Warner Bros.</td>\n",
       "      <td>69</td>\n",
       "      <td>69</td>\n",
       "      <td>Quest</td>\n",
       "      <td>Thriller</td>\n",
       "      <td>3606</td>\n",
       "      <td>21411</td>\n",
       "      <td>256.39</td>\n",
       "      <td>327.76</td>\n",
       "      <td>584.16</td>\n",
       "      <td>150</td>\n",
       "      <td>3.8944</td>\n",
       "      <td>77.2</td>\n",
       "      <td>NaN</td>\n",
       "    </tr>\n",
       "  </tbody>\n",
       "</table>\n",
       "</div>"
      ],
      "text/plain": [
       "     Year         Film            Lead Studio  Critic Rating  Audience Rating  \\\n",
       "516  2007   Grindhouse  The Weinstein Company             82               86   \n",
       "455  2007    Enchanted                 Disney             93               80   \n",
       "456  2007        Sicko  The Weinstein Company             93               87   \n",
       "457  2007    Halloween  The Weinstein Company             26               64   \n",
       "458  2007  I Am Legend           Warner Bros.             69               69   \n",
       "\n",
       "       Story        Genre  Opening Weekend Theaters  \\\n",
       "516  pursuit       Action                      2624   \n",
       "455     Love       Comedy                      3730   \n",
       "456    quest  Documentary                       702   \n",
       "457  Pursuit       Horror                      3472   \n",
       "458    Quest     Thriller                      3606   \n",
       "\n",
       "     Opening Weekend per Cinema  Domestic Gross  Foreign Gross  \\\n",
       "516                        4419           25.04           0.38   \n",
       "455                        9233          127.81         212.68   \n",
       "456                        5128           24.54          11.23   \n",
       "457                        7592           58.27          20.20   \n",
       "458                       21411          256.39         327.76   \n",
       "\n",
       "     Worldwide Gross  Budget  Profitability  Opening Weekend Revenue Oscar  \n",
       "516            25.42      53         0.4797                     11.6   NaN  \n",
       "455           340.49      85         4.0057                     34.4   NaN  \n",
       "456            35.77       9         3.9742                      3.6   NaN  \n",
       "457            78.47      20         3.9235                     26.4   NaN  \n",
       "458           584.16     150         3.8944                     77.2   NaN  "
      ]
     },
     "execution_count": 46,
     "metadata": {},
     "output_type": "execute_result"
    }
   ],
   "source": [
    "normal_movies.head()"
   ]
  },
  {
   "cell_type": "code",
   "execution_count": 55,
   "metadata": {
    "collapsed": false
   },
   "outputs": [
    {
     "data": {
      "text/plain": [
       "<matplotlib.axes._subplots.AxesSubplot at 0x2285dbe0>"
      ]
     },
     "execution_count": 55,
     "metadata": {},
     "output_type": "execute_result"
    },
    {
     "data": {
      "image/png": "[encoded data removed]",
      "text/plain": [
       "<matplotlib.figure.Figure at 0x20caaf28>"
      ]
     },
     "metadata": {},
     "output_type": "display_data"
    }
   ],
   "source": [
    "fig = plt.figure(figsize=(8,4))\n",
    "ax1 = fig.add_subplot(1,2,1)\n",
    "ax2 = fig.add_subplot(1,2,2)\n",
    "sns.boxplot(x=\"Year\",y=\"Critic Rating\",data=normal_movies,ax=ax1)\n",
    "sns.boxplot(x=\"Year\",y=\"Audience Rating\",data=normal_movies,ax=ax2)\n",
    "plt.show()"
   ]
  },
  {
   "cell_type": "code",
   "execution_count": 69,
   "metadata": {
    "collapsed": false
   },
   "outputs": [
    {
     "name": "stderr",
     "output_type": "stream",
     "text": [
      "C:\\Users\\Keerthana\\Anaconda2\\lib\\site-packages\\pandas\\core\\indexing.py:266: SettingWithCopyWarning: \n",
      "A value is trying to be set on a copy of a slice from a DataFrame.\n",
      "Try using .loc[row_indexer,col_indexer] = value instead\n",
      "\n",
      "See the caveats in the documentation: http://pandas.pydata.org/pandas-docs/stable/indexing.html#indexing-view-versus-copy\n",
      "  self.obj[key] = _infer_fill_value(value)\n",
      "C:\\Users\\Keerthana\\Anaconda2\\lib\\site-packages\\pandas\\core\\indexing.py:426: SettingWithCopyWarning: \n",
      "A value is trying to be set on a copy of a slice from a DataFrame.\n",
      "Try using .loc[row_indexer,col_indexer] = value instead\n",
      "\n",
      "See the caveats in the documentation: http://pandas.pydata.org/pandas-docs/stable/indexing.html#indexing-view-versus-copy\n",
      "  self.obj[item] = s\n"
     ]
    }
   ],
   "source": [
    "def is_profitable(row):\n",
    "    if row[\"Profitability\"] <= 1:\n",
    "        return False\n",
    "    return True\n",
    "\n",
    "# we want to apply the function on each ROW(axis=1)\n",
    "normal_movies.loc[:,\"Profitable\"] = normal_movies.apply(is_profitable,axis=1)"
   ]
  },
  {
   "cell_type": "code",
   "execution_count": 70,
   "metadata": {
    "collapsed": false
   },
   "outputs": [
    {
     "data": {
      "text/html": [
       "<div>\n",
       "<table border=\"1\" class=\"dataframe\">\n",
       "  <thead>\n",
       "    <tr style=\"text-align: right;\">\n",
       "      <th></th>\n",
       "      <th>Year</th>\n",
       "      <th>Film</th>\n",
       "      <th>Lead Studio</th>\n",
       "      <th>Critic Rating</th>\n",
       "      <th>Audience Rating</th>\n",
       "      <th>Story</th>\n",
       "      <th>Genre</th>\n",
       "      <th>Opening Weekend Theaters</th>\n",
       "      <th>Opening Weekend per Cinema</th>\n",
       "      <th>Domestic Gross</th>\n",
       "      <th>Foreign Gross</th>\n",
       "      <th>Worldwide Gross</th>\n",
       "      <th>Budget</th>\n",
       "      <th>Profitability</th>\n",
       "      <th>Opening Weekend Revenue</th>\n",
       "      <th>Oscar</th>\n",
       "      <th>Profitable</th>\n",
       "    </tr>\n",
       "  </thead>\n",
       "  <tbody>\n",
       "    <tr>\n",
       "      <th>516</th>\n",
       "      <td>2007</td>\n",
       "      <td>Grindhouse</td>\n",
       "      <td>The Weinstein Company</td>\n",
       "      <td>82</td>\n",
       "      <td>86</td>\n",
       "      <td>pursuit</td>\n",
       "      <td>Action</td>\n",
       "      <td>2624</td>\n",
       "      <td>4419</td>\n",
       "      <td>25.04</td>\n",
       "      <td>0.38</td>\n",
       "      <td>25.42</td>\n",
       "      <td>53</td>\n",
       "      <td>0.4797</td>\n",
       "      <td>11.6</td>\n",
       "      <td>NaN</td>\n",
       "      <td>False</td>\n",
       "    </tr>\n",
       "    <tr>\n",
       "      <th>455</th>\n",
       "      <td>2007</td>\n",
       "      <td>Enchanted</td>\n",
       "      <td>Disney</td>\n",
       "      <td>93</td>\n",
       "      <td>80</td>\n",
       "      <td>Love</td>\n",
       "      <td>Comedy</td>\n",
       "      <td>3730</td>\n",
       "      <td>9233</td>\n",
       "      <td>127.81</td>\n",
       "      <td>212.68</td>\n",
       "      <td>340.49</td>\n",
       "      <td>85</td>\n",
       "      <td>4.0057</td>\n",
       "      <td>34.4</td>\n",
       "      <td>NaN</td>\n",
       "      <td>True</td>\n",
       "    </tr>\n",
       "    <tr>\n",
       "      <th>456</th>\n",
       "      <td>2007</td>\n",
       "      <td>Sicko</td>\n",
       "      <td>The Weinstein Company</td>\n",
       "      <td>93</td>\n",
       "      <td>87</td>\n",
       "      <td>quest</td>\n",
       "      <td>Documentary</td>\n",
       "      <td>702</td>\n",
       "      <td>5128</td>\n",
       "      <td>24.54</td>\n",
       "      <td>11.23</td>\n",
       "      <td>35.77</td>\n",
       "      <td>9</td>\n",
       "      <td>3.9742</td>\n",
       "      <td>3.6</td>\n",
       "      <td>NaN</td>\n",
       "      <td>True</td>\n",
       "    </tr>\n",
       "    <tr>\n",
       "      <th>457</th>\n",
       "      <td>2007</td>\n",
       "      <td>Halloween</td>\n",
       "      <td>The Weinstein Company</td>\n",
       "      <td>26</td>\n",
       "      <td>64</td>\n",
       "      <td>Pursuit</td>\n",
       "      <td>Horror</td>\n",
       "      <td>3472</td>\n",
       "      <td>7592</td>\n",
       "      <td>58.27</td>\n",
       "      <td>20.20</td>\n",
       "      <td>78.47</td>\n",
       "      <td>20</td>\n",
       "      <td>3.9235</td>\n",
       "      <td>26.4</td>\n",
       "      <td>NaN</td>\n",
       "      <td>True</td>\n",
       "    </tr>\n",
       "    <tr>\n",
       "      <th>458</th>\n",
       "      <td>2007</td>\n",
       "      <td>I Am Legend</td>\n",
       "      <td>Warner Bros.</td>\n",
       "      <td>69</td>\n",
       "      <td>69</td>\n",
       "      <td>Quest</td>\n",
       "      <td>Thriller</td>\n",
       "      <td>3606</td>\n",
       "      <td>21411</td>\n",
       "      <td>256.39</td>\n",
       "      <td>327.76</td>\n",
       "      <td>584.16</td>\n",
       "      <td>150</td>\n",
       "      <td>3.8944</td>\n",
       "      <td>77.2</td>\n",
       "      <td>NaN</td>\n",
       "      <td>True</td>\n",
       "    </tr>\n",
       "  </tbody>\n",
       "</table>\n",
       "</div>"
      ],
      "text/plain": [
       "     Year         Film            Lead Studio  Critic Rating  Audience Rating  \\\n",
       "516  2007   Grindhouse  The Weinstein Company             82               86   \n",
       "455  2007    Enchanted                 Disney             93               80   \n",
       "456  2007        Sicko  The Weinstein Company             93               87   \n",
       "457  2007    Halloween  The Weinstein Company             26               64   \n",
       "458  2007  I Am Legend           Warner Bros.             69               69   \n",
       "\n",
       "       Story        Genre  Opening Weekend Theaters  \\\n",
       "516  pursuit       Action                      2624   \n",
       "455     Love       Comedy                      3730   \n",
       "456    quest  Documentary                       702   \n",
       "457  Pursuit       Horror                      3472   \n",
       "458    Quest     Thriller                      3606   \n",
       "\n",
       "     Opening Weekend per Cinema  Domestic Gross  Foreign Gross  \\\n",
       "516                        4419           25.04           0.38   \n",
       "455                        9233          127.81         212.68   \n",
       "456                        5128           24.54          11.23   \n",
       "457                        7592           58.27          20.20   \n",
       "458                       21411          256.39         327.76   \n",
       "\n",
       "     Worldwide Gross  Budget  Profitability  Opening Weekend Revenue Oscar  \\\n",
       "516            25.42      53         0.4797                     11.6   NaN   \n",
       "455           340.49      85         4.0057                     34.4   NaN   \n",
       "456            35.77       9         3.9742                      3.6   NaN   \n",
       "457            78.47      20         3.9235                     26.4   NaN   \n",
       "458           584.16     150         3.8944                     77.2   NaN   \n",
       "\n",
       "    Profitable  \n",
       "516      False  \n",
       "455       True  \n",
       "456       True  \n",
       "457       True  \n",
       "458       True  "
      ]
     },
     "execution_count": 70,
     "metadata": {},
     "output_type": "execute_result"
    }
   ],
   "source": [
    "normal_movies.head()"
   ]
  },
  {
   "cell_type": "code",
   "execution_count": 73,
   "metadata": {
    "collapsed": false
   },
   "outputs": [
    {
     "data": {
      "image/png": "[encoded data removed]",
      "text/plain": [
       "<matplotlib.figure.Figure at 0x2534f198>"
      ]
     },
     "metadata": {},
     "output_type": "display_data"
    }
   ],
   "source": [
    "fig = plt.figure(figsize=(12,6))\n",
    "ax1 = fig.add_subplot(1,2,1)\n",
    "ax2 = fig.add_subplot(1,2,2)\n",
    "sns.boxplot(x=\"Profitable\",y=\"Audience Rating\",data=normal_movies,ax=ax1)\n",
    "sns.boxplot(x=\"Profitable\",y=\"Critic Rating\",data=normal_movies,ax=ax2)\n",
    "sns.plt.show()"
   ]
  },
  {
   "cell_type": "code",
   "execution_count": null,
   "metadata": {
    "collapsed": false
   },
   "outputs": [],
   "source": []
  },
  {
   "cell_type": "code",
   "execution_count": null,
   "metadata": {
    "collapsed": false
   },
   "outputs": [],
   "source": []
  },
  {
   "cell_type": "code",
   "execution_count": null,
   "metadata": {
    "collapsed": true
   },
   "outputs": [],
   "source": []
  }
 ],
 "metadata": {
  "kernelspec": {
   "display_name": "Python 2",
   "language": "python",
   "name": "python2"
  },
  "language_info": {
   "codemirror_mode": {
    "name": "ipython",
    "version": 2
   },
   "file_extension": ".py",
   "mimetype": "text/x-python",
   "name": "python",
   "nbconvert_exporter": "python",
   "pygments_lexer": "ipython2",
   "version": "2.7.11"
  }
 },
 "nbformat": 4,
 "nbformat_minor": 0
}
